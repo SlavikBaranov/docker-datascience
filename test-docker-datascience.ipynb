{
 "cells": [
  {
   "cell_type": "code",
   "execution_count": 2,
   "metadata": {},
   "outputs": [],
   "source": [
    "%matplotlib inline\n",
    "from matplotlib import pyplot as plt\n",
    "import seaborn\n",
    "import xgboost\n",
    "import pandas as pd\n",
    "from sklearn import datasets\n",
    "from sklearn.model_selection import train_test_split\n",
    "from sklearn.metrics import roc_curve"
   ]
  },
  {
   "cell_type": "code",
   "execution_count": 5,
   "metadata": {
    "collapsed": true
   },
   "outputs": [],
   "source": [
    "import "
   ]
  },
  {
   "cell_type": "code",
   "execution_count": null,
   "metadata": {},
   "outputs": [
    {
     "data": {
      "application/vnd.jupyter.widget-view+json": {
       "model_id": "f979e70134624f1cb8566f25a415dd4a"
      }
     },
     "metadata": {},
     "output_type": "display_data"
    }
   ],
   "source": [
    "import time\n",
    "from tqdm import tqdm_notebook\n",
    "for i in tqdm_notebook(range(1000)):\n",
    "    time.sleep(0.1)"
   ]
  },
  {
   "cell_type": "code",
   "execution_count": 33,
   "metadata": {},
   "outputs": [
    {
     "data": {
      "text/html": [
       "<div>\n",
       "<table border=\"1\" class=\"dataframe\">\n",
       "  <thead>\n",
       "    <tr style=\"text-align: right;\">\n",
       "      <th></th>\n",
       "      <th>0</th>\n",
       "      <th>1</th>\n",
       "      <th>2</th>\n",
       "      <th>3</th>\n",
       "      <th>4</th>\n",
       "      <th>5</th>\n",
       "      <th>6</th>\n",
       "      <th>7</th>\n",
       "      <th>8</th>\n",
       "      <th>9</th>\n",
       "      <th>...</th>\n",
       "      <th>20</th>\n",
       "      <th>21</th>\n",
       "      <th>22</th>\n",
       "      <th>23</th>\n",
       "      <th>24</th>\n",
       "      <th>25</th>\n",
       "      <th>26</th>\n",
       "      <th>27</th>\n",
       "      <th>28</th>\n",
       "      <th>29</th>\n",
       "    </tr>\n",
       "  </thead>\n",
       "  <tbody>\n",
       "    <tr>\n",
       "      <th>0</th>\n",
       "      <td>0.301581</td>\n",
       "      <td>1.408314</td>\n",
       "      <td>1.409227</td>\n",
       "      <td>-0.173609</td>\n",
       "      <td>-1.703800</td>\n",
       "      <td>1.663592</td>\n",
       "      <td>-0.328853</td>\n",
       "      <td>0.546714</td>\n",
       "      <td>-0.853095</td>\n",
       "      <td>-0.475903</td>\n",
       "      <td>...</td>\n",
       "      <td>0.795107</td>\n",
       "      <td>0.877714</td>\n",
       "      <td>1.200536</td>\n",
       "      <td>-0.533912</td>\n",
       "      <td>1.020690</td>\n",
       "      <td>0.940796</td>\n",
       "      <td>-0.700787</td>\n",
       "      <td>1.470776</td>\n",
       "      <td>2.112411</td>\n",
       "      <td>-0.090783</td>\n",
       "    </tr>\n",
       "    <tr>\n",
       "      <th>1</th>\n",
       "      <td>-0.487323</td>\n",
       "      <td>-0.484605</td>\n",
       "      <td>-0.419753</td>\n",
       "      <td>1.258002</td>\n",
       "      <td>0.423214</td>\n",
       "      <td>-0.724253</td>\n",
       "      <td>-1.232197</td>\n",
       "      <td>2.445035</td>\n",
       "      <td>-1.378338</td>\n",
       "      <td>-1.232679</td>\n",
       "      <td>...</td>\n",
       "      <td>-0.772201</td>\n",
       "      <td>-1.028194</td>\n",
       "      <td>-0.035316</td>\n",
       "      <td>0.278069</td>\n",
       "      <td>-2.562959</td>\n",
       "      <td>-0.282449</td>\n",
       "      <td>-2.042751</td>\n",
       "      <td>-0.023760</td>\n",
       "      <td>-0.782766</td>\n",
       "      <td>-1.322814</td>\n",
       "    </tr>\n",
       "    <tr>\n",
       "      <th>2</th>\n",
       "      <td>-0.554187</td>\n",
       "      <td>-1.097552</td>\n",
       "      <td>-0.697864</td>\n",
       "      <td>-1.132140</td>\n",
       "      <td>0.325907</td>\n",
       "      <td>0.193525</td>\n",
       "      <td>-0.133474</td>\n",
       "      <td>-0.413987</td>\n",
       "      <td>-0.287095</td>\n",
       "      <td>-1.145795</td>\n",
       "      <td>...</td>\n",
       "      <td>-1.022807</td>\n",
       "      <td>-0.136579</td>\n",
       "      <td>-0.009012</td>\n",
       "      <td>-0.757375</td>\n",
       "      <td>0.826511</td>\n",
       "      <td>0.551015</td>\n",
       "      <td>0.439954</td>\n",
       "      <td>-0.551893</td>\n",
       "      <td>-0.062991</td>\n",
       "      <td>-0.235474</td>\n",
       "    </tr>\n",
       "    <tr>\n",
       "      <th>3</th>\n",
       "      <td>0.383414</td>\n",
       "      <td>0.542371</td>\n",
       "      <td>0.208094</td>\n",
       "      <td>-0.077591</td>\n",
       "      <td>0.181180</td>\n",
       "      <td>1.113206</td>\n",
       "      <td>-0.515131</td>\n",
       "      <td>-0.327328</td>\n",
       "      <td>-0.037342</td>\n",
       "      <td>0.818765</td>\n",
       "      <td>...</td>\n",
       "      <td>0.029210</td>\n",
       "      <td>0.033616</td>\n",
       "      <td>0.744697</td>\n",
       "      <td>-0.222526</td>\n",
       "      <td>0.535837</td>\n",
       "      <td>-0.433155</td>\n",
       "      <td>-0.279932</td>\n",
       "      <td>-1.056352</td>\n",
       "      <td>-0.083518</td>\n",
       "      <td>-1.862261</td>\n",
       "    </tr>\n",
       "    <tr>\n",
       "      <th>4</th>\n",
       "      <td>0.929047</td>\n",
       "      <td>1.468983</td>\n",
       "      <td>1.346298</td>\n",
       "      <td>-0.342393</td>\n",
       "      <td>-1.467817</td>\n",
       "      <td>-1.218745</td>\n",
       "      <td>0.524839</td>\n",
       "      <td>1.758517</td>\n",
       "      <td>-1.354053</td>\n",
       "      <td>-1.627166</td>\n",
       "      <td>...</td>\n",
       "      <td>0.693371</td>\n",
       "      <td>0.562292</td>\n",
       "      <td>1.653235</td>\n",
       "      <td>1.092434</td>\n",
       "      <td>0.187117</td>\n",
       "      <td>0.395255</td>\n",
       "      <td>-0.270094</td>\n",
       "      <td>-0.246970</td>\n",
       "      <td>-0.649252</td>\n",
       "      <td>0.851364</td>\n",
       "    </tr>\n",
       "  </tbody>\n",
       "</table>\n",
       "<p>5 rows × 30 columns</p>\n",
       "</div>"
      ],
      "text/plain": [
       "         0         1         2         3         4         5         6   \\\n",
       "0  0.301581  1.408314  1.409227 -0.173609 -1.703800  1.663592 -0.328853   \n",
       "1 -0.487323 -0.484605 -0.419753  1.258002  0.423214 -0.724253 -1.232197   \n",
       "2 -0.554187 -1.097552 -0.697864 -1.132140  0.325907  0.193525 -0.133474   \n",
       "3  0.383414  0.542371  0.208094 -0.077591  0.181180  1.113206 -0.515131   \n",
       "4  0.929047  1.468983  1.346298 -0.342393 -1.467817 -1.218745  0.524839   \n",
       "\n",
       "         7         8         9     ...           20        21        22  \\\n",
       "0  0.546714 -0.853095 -0.475903    ...     0.795107  0.877714  1.200536   \n",
       "1  2.445035 -1.378338 -1.232679    ...    -0.772201 -1.028194 -0.035316   \n",
       "2 -0.413987 -0.287095 -1.145795    ...    -1.022807 -0.136579 -0.009012   \n",
       "3 -0.327328 -0.037342  0.818765    ...     0.029210  0.033616  0.744697   \n",
       "4  1.758517 -1.354053 -1.627166    ...     0.693371  0.562292  1.653235   \n",
       "\n",
       "         23        24        25        26        27        28        29  \n",
       "0 -0.533912  1.020690  0.940796 -0.700787  1.470776  2.112411 -0.090783  \n",
       "1  0.278069 -2.562959 -0.282449 -2.042751 -0.023760 -0.782766 -1.322814  \n",
       "2 -0.757375  0.826511  0.551015  0.439954 -0.551893 -0.062991 -0.235474  \n",
       "3 -0.222526  0.535837 -0.433155 -0.279932 -1.056352 -0.083518 -1.862261  \n",
       "4  1.092434  0.187117  0.395255 -0.270094 -0.246970 -0.649252  0.851364  \n",
       "\n",
       "[5 rows x 30 columns]"
      ]
     },
     "execution_count": 33,
     "metadata": {},
     "output_type": "execute_result"
    }
   ],
   "source": [
    "X, Y = datasets.make_classification(10000, 30)\n",
    "pd.DataFrame(X).head(5)"
   ]
  },
  {
   "cell_type": "code",
   "execution_count": 34,
   "metadata": {
    "collapsed": true
   },
   "outputs": [],
   "source": [
    "X_train, X_test, y_train, y_test = train_test_split(X, Y)\n",
    "clsf = xgboost.XGBClassifier(n_estimators=1000)\n",
    "clsf.fit(X_train, y_train)\n",
    "prediction = clsf.predict_proba(X_test)"
   ]
  },
  {
   "cell_type": "code",
   "execution_count": 36,
   "metadata": {},
   "outputs": [
    {
     "data": {
      "text/plain": [
       "[<matplotlib.lines.Line2D at 0x7ff5ef1f8b50>]"
      ]
     },
     "execution_count": 36,
     "metadata": {},
     "output_type": "execute_result"
    },
    {
     "data": {
      "image/png": "[encoded data removed]",
      "text/plain": [
       "<matplotlib.figure.Figure at 0x7ff5ef2787d0>"
      ]
     },
     "metadata": {},
     "output_type": "display_data"
    }
   ],
   "source": [
    "fpr, tpr, _ = roc_curve(y_test, prediction[:,1])\n",
    "plt.plot(fpr, tpr)"
   ]
  }
 ],
 "metadata": {
  "kernelspec": {
   "display_name": "Python 2",
   "language": "python",
   "name": "python2"
  },
  "language_info": {
   "codemirror_mode": {
    "name": "ipython",
    "version": 2
   },
   "file_extension": ".py",
   "mimetype": "text/x-python",
   "name": "python",
   "nbconvert_exporter": "python",
   "pygments_lexer": "ipython2",
   "version": "2.7.12"
  }
 },
 "nbformat": 4,
 "nbformat_minor": 2
}
